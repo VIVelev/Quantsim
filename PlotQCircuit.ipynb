{
 "cells": [
  {
   "cell_type": "code",
   "execution_count": 34,
   "metadata": {},
   "outputs": [
    {
     "name": "stdout",
     "output_type": "stream",
     "text": [
      "(1+0j)|0> + 0j|1>\n",
      "\n",
      "(1+0j)|0> + 0j|1>\n",
      "\n"
     ]
    }
   ],
   "source": [
    "from quantsim import QuantumCircuit, H, CNOT, D, M\n",
    "\n",
    "with QuantumCircuit(num_qubits=3) as qc:\n",
    "    qc[1] - H\n",
    "    qc[1]@qc[2] - CNOT\n",
    "    qc[1] - M - D\n",
    "    qc[2] - M - D\n"
   ]
  },
  {
   "cell_type": "code",
   "execution_count": 3,
   "metadata": {},
   "outputs": [
    {
     "name": "stdout",
     "output_type": "stream",
     "text": [
      "['qubit q_0', 'qubit q_1', 'qubit q_2', \"def R8,0,'R8'\", \"def Rx,0,'Rx'\", \"def Rz,0,'Rz'\", \"def M,0,'M'\", \"def D,0,'D'\", 'H q_1', 'CNOT q_1,q_2']\n"
     ]
    },
    {
     "data": {
      "image/png": "[encoded data removed]",
      "text/plain": [
       "<Figure size 144x216 with 1 Axes>"
      ]
     },
     "metadata": {},
     "output_type": "display_data"
    }
   ],
   "source": [
    "qc.display()"
   ]
  },
  {
   "cell_type": "code",
   "execution_count": null,
   "metadata": {},
   "outputs": [],
   "source": []
  }
 ],
 "metadata": {
  "kernelspec": {
   "display_name": "Python 3",
   "language": "python",
   "name": "python3"
  },
  "language_info": {
   "codemirror_mode": {
    "name": "ipython",
    "version": 3
   },
   "file_extension": ".py",
   "mimetype": "text/x-python",
   "name": "python",
   "nbconvert_exporter": "python",
   "pygments_lexer": "ipython3",
   "version": "3.7.3"
  }
 },
 "nbformat": 4,
 "nbformat_minor": 2
}
